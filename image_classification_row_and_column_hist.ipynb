{
 "cells": [
  {
   "cell_type": "code",
   "execution_count": 2,
   "metadata": {},
   "outputs": [],
   "source": [
    "from PIL import Image, ImageOps\n",
    "import cv2\n",
    "import json\n",
    "import numpy as np\n",
    "\n",
    "import matplotlib.pyplot as plt\n",
    "from scipy.optimize import curve_fit\n",
    "from scipy.optimize import leastsq   # 从scipy库的optimize模块引入leastsq函数\n",
    "\n",
    "import random\n",
    "\n",
    "img_path = '../OCR_data/output/'"
   ]
  },
  {
   "cell_type": "code",
   "execution_count": 3,
   "metadata": {},
   "outputs": [],
   "source": [
    "def PIL_img_show(img):\n",
    "    Image.fromarray(img).show()\n",
    "    \n",
    "def func1(x, p):\n",
    "    A, T, theta, b, A2, theta2, A3, theta3 = p\n",
    "    return A*np.sin(2*np.pi/T*x+theta)+b+A3*x\n",
    "\n",
    "def func2(x, p):\n",
    "    A, T, theta, b, A2, theta2, A3, theta3 = p\n",
    "    return A*np.sin(2*np.pi/T*x+theta)+b+ A2*np.sin(2*2*np.pi/T*x+theta2)+ A3*x\n",
    "\n",
    "def func3(x, p):\n",
    "    A, T, theta, b, A2, theta2, A3, theta3 = p\n",
    "    return A*np.sin(2*np.pi/T*x+theta)+b+ A2*np.sin(2*2*np.pi/T*x+theta2)+A3*np.sin(3*2*np.pi/T*x+theta3)\n",
    "\n",
    "def residuals(p, y, x):\n",
    "    \"\"\"\n",
    "    get residuals between the fitting curve and true data\n",
    "    data: x,y\n",
    "    parameters:p\n",
    "    \"\"\"\n",
    "    return y - func1(x, p) \n",
    "\n",
    "def fit_curve_and_get_residuals(residuals, x, y, fitting_guess):\n",
    "    [A, T, theta, b]=fitting_guess\n",
    "    plsq = leastsq(residuals, [A, T, theta, b, A/10, theta, 1/100, theta], args=(y, x))\n",
    "#     res = (residuals(plsq[0], y, x)**2).mean()\n",
    "    \n",
    "#     #return\n",
    "#     return (res)/((y-plsq[0][3])**2).mean(), plsq, res\n",
    "\n",
    "    res = np.abs(residuals(plsq[0], y, x)).mean()#res表示拟合误差\n",
    "    res_norm = res/np.abs(plsq[0][0])\n",
    "    #res_norm是为了将拟合误差归一化，因为不同的图片柱状图不一样高，为了res能放在一起比较\n",
    "    #需要一个和柱状图高度无关的指标。本次的指标除以sin函数的高度，从实践来看效果还行，是否存在更鲁棒的设计？\n",
    "    return res_norm, plsq, res\n",
    "\n",
    "def get_column_hist_and_fitting(bin_img):\n",
    "    \n",
    "    img_height, img_width = bin_img.shape[:2]\n",
    "    \n",
    "    kernel_size = (int(img_height/500), int(img_width/100))#水平方向需要膨胀多一点使得水平的文字连接起来\n",
    "    kernel = np.ones(kernel_size,np.uint8)\n",
    "    erosion_img = cv2.erode(bin_img,kernel,iterations = 2)\n",
    "#     PIL_img_show(erosion_img)\n",
    "\n",
    "    row_sums=[]\n",
    "    col_sums=[]\n",
    "    for x in range(img_height):\n",
    "        row_sums.append(img_width - sum(erosion_img[x, :])/255)#img_width for inversing pixel\n",
    "    for y in range(img_width):\n",
    "        col_sums.append(img_height -sum(erosion_img[:, y])/255)#img_height for inversing pixel\n",
    "    \n",
    "    x = np.array(range(len(col_sums)))\n",
    "    y1 = np.array(col_sums)\n",
    "    \n",
    "    res_norm, plsq, res = fit_curve_and_get_residuals(residuals, x, y1, [1000, 700, 0, y1.mean()])\n",
    "    \n",
    "    [A, T, theta, b, A2, theta2, A3, theta3]=plsq[0]\n",
    "    return res_norm, 1.5*T<img_width, plsq[0]    #1.5*T表示该拟合曲线的宽度很小，基本是普通二次函数的形式可以拟合的，没有波峰波谷，故排除"
   ]
  },
  {
   "cell_type": "code",
   "execution_count": 12,
   "metadata": {},
   "outputs": [
    {
     "name": "stdout",
     "output_type": "stream",
     "text": [
      "0 1.057604595081524 True\n",
      "1 0.6919006845580346 True\n",
      "2 0.7675128453209358 True\n",
      "3 0.5832395801880395 True\n",
      "4 0.6489565670545923 True\n",
      "5 0.7353865550629928 True\n",
      "6 2.0732848292399577 True\n",
      "7 3.2789871306375074 True\n",
      "8 2.8056109541594587 True\n",
      "9 2.2183861127421713 True\n",
      "10 4.081017800506578 True\n",
      "11 1.5086519966106047 True\n",
      "12 4.347890643978011 True\n",
      "13 2.9743633383411514 True\n",
      "14 2.0663840630088237 True\n",
      "15 1.772200993394924 True\n",
      "16 1.6002264640017911 True\n",
      "17 1.3376863810095267 True\n",
      "18 1.2833256217481865 True\n",
      "19 0.8762818685083481 True\n",
      "20 0.9238526543608502 True\n",
      "21 1.1606248120571951 True\n",
      "22 0.6074916310889585 True\n",
      "23 0.7500575118236932 True\n",
      "24 0.8007360297821596 True\n",
      "25 0.5935478199414859 True\n",
      "26 0.17202942340528274 False\n",
      "27 0.6973068408329572 True\n",
      "28 1.1990281272981396 True\n",
      "29 0.6620444900866327 True\n",
      "30 2.3516744929784603 True\n",
      "31 1.1422430981761693 True\n",
      "32 0.8534385714459078 True\n",
      "33 0.868617305156274 True\n",
      "34 0.7847131965374056 True\n",
      "35 1.135948323266806 True\n",
      "36 1.3234547898319498 True\n",
      "37 1.998044416111335 True\n",
      "38 0.9243001134626202 True\n",
      "39 0.9624917526236149 True\n",
      "40 0.8952565695234617 True\n",
      "41 0.7302782374014729 True\n"
     ]
    }
   ],
   "source": [
    "for img_id in range(42):\n",
    "    img_name = 'img_'+str(1000000+img_id)+'.png'\n",
    "    img = cv2.imread(img_path + img_name)\n",
    "    gray_img = cv2.cvtColor(img, cv2.COLOR_BGR2GRAY)\n",
    "    img_height, img_width = gray_img.shape[:2]\n",
    "    \n",
    "    bin_threshold, bin_img = cv2.threshold(gray_img,0,255,cv2.THRESH_BINARY+cv2.THRESH_OTSU)\n",
    "#     PIL_img_show(bin_img)\n",
    "\n",
    "    res_norm, has_several_sin_wave, _ = get_column_hist_and_fitting(bin_img)\n",
    "    \n",
    "    print(img_id, res_norm, has_several_sin_wave)"
   ]
  },
  {
   "cell_type": "code",
   "execution_count": null,
   "metadata": {},
   "outputs": [],
   "source": []
  },
  {
   "cell_type": "code",
   "execution_count": null,
   "metadata": {},
   "outputs": [],
   "source": []
  },
  {
   "cell_type": "code",
   "execution_count": null,
   "metadata": {},
   "outputs": [],
   "source": []
  },
  {
   "cell_type": "code",
   "execution_count": 8,
   "metadata": {},
   "outputs": [
    {
     "name": "stdout",
     "output_type": "stream",
     "text": [
      "2338 1653\n"
     ]
    }
   ],
   "source": [
    "img = cv2.imread(img_path + 'img_'+str(1000036)+'.png')\n",
    "gray_img = cv2.cvtColor(img, cv2.COLOR_BGR2GRAY)\n",
    "img_heigth, img_width = gray_img.shape[:2]\n",
    "print(img_heigth, img_width)\n",
    "\n",
    "\n",
    "bin_threshold, bin_img = cv2.threshold(gray_img,0,255,cv2.THRESH_BINARY+cv2.THRESH_OTSU)\n",
    "# PIL_img_show(bin_img)\n",
    "\n",
    "kernel_size = (int(img_heigth/500), int(img_width/100))\n",
    "kernel = np.ones(kernel_size,np.uint8)\n",
    "erosion_img = cv2.erode(bin_img,kernel,iterations = 2)\n",
    "PIL_img_show(erosion_img)\n",
    "\n",
    "row_sums=[]\n",
    "col_sums=[]\n",
    "for x in range(img_heigth):\n",
    "    row_sums.append(img_width - sum(erosion_img[x, :])/255)#img_width for inversing pixel\n",
    "for y in range(img_width):\n",
    "    col_sums.append(img_heigth -sum(erosion_img[:, y])/255)#img_height for inversing pixel"
   ]
  },
  {
   "cell_type": "code",
   "execution_count": 7,
   "metadata": {},
   "outputs": [
    {
     "name": "stdout",
     "output_type": "stream",
     "text": [
      "initial parameter: [472.3534787272911, 613.0545447036359, -1.646886481428629, 1046.475026649238]\n",
      "fitting parameter [ 4.72353479e+02  6.13054545e+02 -1.64688648e+00  1.04647503e+03\n",
      "  1.00000000e+02  0.00000000e+00 -2.48341971e-01  0.00000000e+00]\n"
     ]
    },
    {
     "data": {
      "image/png": "[encoded data removed]",
      "text/plain": [
       "<Figure size 432x288 with 1 Axes>"
      ]
     },
     "metadata": {},
     "output_type": "display_data"
    },
    {
     "name": "stdout",
     "output_type": "stream",
     "text": [
      "0.5935478199414859 -117.30519388814456 True\n"
     ]
    }
   ],
   "source": [
    "x = np.array(range(len(col_sums)))\n",
    "y1 = np.array(col_sums)\n",
    "\n",
    "# 调用leastsq进行数据拟合\n",
    "# residuals为计算误差的函数\n",
    "# p0为拟合参数的初始值\n",
    "# args为需要拟合的实验数据\n",
    "[A, T, theta, b]=[1000, 700, 0, y1.mean()]\n",
    "res_norm, plsq, res = fit_curve_and_get_residuals(residuals, x, y1, [1000, 700, 0, y1.mean()])\n",
    "[A, T, theta, b, A2, theta2, A3, theta3]=plsq[0]\n",
    "print (\"initial parameter:\", [A, T, theta, b]) # 真实参数\n",
    "print (\"fitting parameter\", plsq[0]) # 实验数据拟合后的参数\n",
    "\n",
    "\n",
    "plt.plot(x, y1, label=\"true data\")  # 带噪声的实验数据\n",
    "#plt.plot(x, func2(x, plsq[0]), label=\"fitting data: func2\")    # 拟合数据\n",
    "plt.plot(x, func1(x, plsq[0]), label=\"fitting data: func1\")    # 拟合数据\n",
    "plt.legend()\n",
    "plt.show()\n",
    "\n",
    "print(res_norm, A3*A, 1.5*T<img_width)"
   ]
  },
  {
   "cell_type": "code",
   "execution_count": 87,
   "metadata": {},
   "outputs": [
    {
     "ename": "SyntaxError",
     "evalue": "invalid syntax (<ipython-input-87-805bebed4427>, line 1)",
     "output_type": "error",
     "traceback": [
      "\u001b[1;36m  File \u001b[1;32m\"<ipython-input-87-805bebed4427>\"\u001b[1;36m, line \u001b[1;32m1\u001b[0m\n\u001b[1;33m    print(plsq[0)\u001b[0m\n\u001b[1;37m                ^\u001b[0m\n\u001b[1;31mSyntaxError\u001b[0m\u001b[1;31m:\u001b[0m invalid syntax\n"
     ]
    }
   ],
   "source": [
    "print(plsq[0)"
   ]
  },
  {
   "cell_type": "code",
   "execution_count": 140,
   "metadata": {},
   "outputs": [
    {
     "name": "stdout",
     "output_type": "stream",
     "text": [
      "[ 1.04964127e+03  1.00006465e-02  1.01533267e+02  2.49698004e+03\n",
      " -5.72317549e+02  1.00085914e-02  1.02490188e+00]\n",
      "[[ 3.15792042e+10  2.38462865e+02 -3.10795679e+06 -5.06809933e+04\n",
      "   3.96265723e+09  4.20596818e+01 -5.51900174e+07]\n",
      " [ 2.38462865e+02  1.80327987e-06 -1.27108244e-02 -3.84712521e-04\n",
      "   1.86206555e+01  1.59883986e-07 -4.17191803e-01]\n",
      " [-3.10795616e+06 -1.27108196e-02  4.52841414e+04  3.34684752e-01\n",
      "  -4.76435796e+07 -6.63538751e-01  3.60261633e+03]\n",
      " [-5.06809934e+04 -3.84712521e-04  3.34685769e-01  1.81500162e+00\n",
      "  -1.47004474e+03  7.29035716e-07  8.87626108e+01]\n",
      " [ 3.96265657e+09  1.86206505e+01 -4.76435796e+07 -1.47004367e+03\n",
      "   5.01412526e+10  6.98034218e+02 -5.00382323e+06]\n",
      " [ 4.20596726e+01  1.59883916e-07 -6.63538751e-01  7.29050612e-07\n",
      "   6.98034218e+02  9.72310300e-06 -4.66916252e-02]\n",
      " [-5.51900174e+07 -4.17191803e-01  3.60261743e+03  8.87626107e+01\n",
      "  -5.00382439e+06 -4.66916414e-02  9.65282994e+04]]\n"
     ]
    },
    {
     "data": {
      "image/png": "[encoded data removed]",
      "text/plain": [
       "<Figure size 432x288 with 1 Axes>"
      ]
     },
     "metadata": {},
     "output_type": "display_data"
    },
    {
     "data": {
      "image/png": "[encoded data removed]",
      "text/plain": [
       "<Figure size 432x288 with 1 Axes>"
      ]
     },
     "metadata": {},
     "output_type": "display_data"
    }
   ],
   "source": [
    "def f_fit(x,A, omega, theta, bias, A2, omega2, theta2):\n",
    "    return A*np.sin(omega*x+theta)+bias+A2*np.cos(omega2*x+theta2)\n",
    "def f_show(x,p_fit):\n",
    "    A, omega, theta, bias, A2, omega2, theta2 = p_fit.tolist()\n",
    "    return A*np.sin(omega*x+theta)+bias+A2*np.cos(omega2*x+theta2)\n",
    "\n",
    "# x=np.array(range(len(col_sums)))\n",
    "# y1 = np.array(col_sums)\n",
    "# y1=1054*np.sin(x)+1999+[random.randint(400,600) for x in range(len(col_sums))]\n",
    "\n",
    "x=np.array(range(2000))\n",
    "y1=1054*np.sin(0.01*x)+1999+590*np.cos(0.01*x)+[random.randint(400,600) for x in range(2000)]\n",
    "\n",
    "guess=(800, 0.012, 100, 2100, 600, 0.011, 0.1)\n",
    "p_fit,pcov=curve_fit(f_fit,x,y1, guess)#曲线拟合\n",
    "print(p_fit)#最优参数\n",
    "print(pcov)#最优参数的协方差估计矩阵\n",
    "y2=f_show(x,p_fit)\n",
    "\n",
    "plt.plot(x,y2,'r--',label='fitting')\n",
    "plt.plot(x, y1)\n",
    "plt.show()\n",
    "\n",
    "\n",
    "erosion_img = cv2.erode(bin_img,kernel,iterations = 2)\n",
    "plt.plot(range(len(row_sums)), row_sums)\n",
    "plt.show()\n",
    "\n",
    "#get residuals\n",
    "# residuals = ydata - func(xdata,p1,p2)\n",
    "# fres = sum(residuals**2)"
   ]
  },
  {
   "cell_type": "code",
   "execution_count": 134,
   "metadata": {},
   "outputs": [
    {
     "name": "stdout",
     "output_type": "stream",
     "text": [
      "0.0010005002501250625\n",
      "Help on function curve_fit in module scipy.optimize.minpack:\n",
      "\n",
      "curve_fit(f, xdata, ydata, p0=None, sigma=None, absolute_sigma=False, check_finite=True, bounds=(-inf, inf), method=None, jac=None, **kwargs)\n",
      "    Use non-linear least squares to fit a function, f, to data.\n",
      "    \n",
      "    Assumes ``ydata = f(xdata, *params) + eps``\n",
      "    \n",
      "    Parameters\n",
      "    ----------\n",
      "    f : callable\n",
      "        The model function, f(x, ...).  It must take the independent\n",
      "        variable as the first argument and the parameters to fit as\n",
      "        separate remaining arguments.\n",
      "    xdata : An M-length sequence or an (k,M)-shaped array for functions with k predictors\n",
      "        The independent variable where the data is measured.\n",
      "    ydata : M-length sequence\n",
      "        The dependent data --- nominally f(xdata, ...)\n",
      "    p0 : None, scalar, or N-length sequence, optional\n",
      "        Initial guess for the parameters.  If None, then the initial\n",
      "        values will all be 1 (if the number of parameters for the function\n",
      "        can be determined using introspection, otherwise a ValueError\n",
      "        is raised).\n",
      "    sigma : None or M-length sequence or MxM array, optional\n",
      "        Determines the uncertainty in `ydata`. If we define residuals as\n",
      "        ``r = ydata - f(xdata, *popt)``, then the interpretation of `sigma`\n",
      "        depends on its number of dimensions:\n",
      "    \n",
      "            - A 1-d `sigma` should contain values of standard deviations of\n",
      "              errors in `ydata`. In this case, the optimized function is\n",
      "              ``chisq = sum((r / sigma) ** 2)``.\n",
      "    \n",
      "            - A 2-d `sigma` should contain the covariance matrix of\n",
      "              errors in `ydata`. In this case, the optimized function is\n",
      "              ``chisq = r.T @ inv(sigma) @ r``.\n",
      "    \n",
      "              .. versionadded:: 0.19\n",
      "    \n",
      "        None (default) is equivalent of 1-d `sigma` filled with ones.\n",
      "    absolute_sigma : bool, optional\n",
      "        If True, `sigma` is used in an absolute sense and the estimated parameter\n",
      "        covariance `pcov` reflects these absolute values.\n",
      "    \n",
      "        If False, only the relative magnitudes of the `sigma` values matter.\n",
      "        The returned parameter covariance matrix `pcov` is based on scaling\n",
      "        `sigma` by a constant factor. This constant is set by demanding that the\n",
      "        reduced `chisq` for the optimal parameters `popt` when using the\n",
      "        *scaled* `sigma` equals unity. In other words, `sigma` is scaled to\n",
      "        match the sample variance of the residuals after the fit.\n",
      "        Mathematically,\n",
      "        ``pcov(absolute_sigma=False) = pcov(absolute_sigma=True) * chisq(popt)/(M-N)``\n",
      "    check_finite : bool, optional\n",
      "        If True, check that the input arrays do not contain nans of infs,\n",
      "        and raise a ValueError if they do. Setting this parameter to\n",
      "        False may silently produce nonsensical results if the input arrays\n",
      "        do contain nans. Default is True.\n",
      "    bounds : 2-tuple of array_like, optional\n",
      "        Lower and upper bounds on parameters. Defaults to no bounds.\n",
      "        Each element of the tuple must be either an array with the length equal\n",
      "        to the number of parameters, or a scalar (in which case the bound is\n",
      "        taken to be the same for all parameters.) Use ``np.inf`` with an\n",
      "        appropriate sign to disable bounds on all or some parameters.\n",
      "    \n",
      "        .. versionadded:: 0.17\n",
      "    method : {'lm', 'trf', 'dogbox'}, optional\n",
      "        Method to use for optimization.  See `least_squares` for more details.\n",
      "        Default is 'lm' for unconstrained problems and 'trf' if `bounds` are\n",
      "        provided. The method 'lm' won't work when the number of observations\n",
      "        is less than the number of variables, use 'trf' or 'dogbox' in this\n",
      "        case.\n",
      "    \n",
      "        .. versionadded:: 0.17\n",
      "    jac : callable, string or None, optional\n",
      "        Function with signature ``jac(x, ...)`` which computes the Jacobian\n",
      "        matrix of the model function with respect to parameters as a dense\n",
      "        array_like structure. It will be scaled according to provided `sigma`.\n",
      "        If None (default), the Jacobian will be estimated numerically.\n",
      "        String keywords for 'trf' and 'dogbox' methods can be used to select\n",
      "        a finite difference scheme, see `least_squares`.\n",
      "    \n",
      "        .. versionadded:: 0.18\n",
      "    kwargs\n",
      "        Keyword arguments passed to `leastsq` for ``method='lm'`` or\n",
      "        `least_squares` otherwise.\n",
      "    \n",
      "    Returns\n",
      "    -------\n",
      "    popt : array\n",
      "        Optimal values for the parameters so that the sum of the squared\n",
      "        residuals of ``f(xdata, *popt) - ydata`` is minimized\n",
      "    pcov : 2d array\n",
      "        The estimated covariance of popt. The diagonals provide the variance\n",
      "        of the parameter estimate. To compute one standard deviation errors\n",
      "        on the parameters use ``perr = np.sqrt(np.diag(pcov))``.\n",
      "    \n",
      "        How the `sigma` parameter affects the estimated covariance\n",
      "        depends on `absolute_sigma` argument, as described above.\n",
      "    \n",
      "        If the Jacobian matrix at the solution doesn't have a full rank, then\n",
      "        'lm' method returns a matrix filled with ``np.inf``, on the other hand\n",
      "        'trf'  and 'dogbox' methods use Moore-Penrose pseudoinverse to compute\n",
      "        the covariance matrix.\n",
      "    \n",
      "    Raises\n",
      "    ------\n",
      "    ValueError\n",
      "        if either `ydata` or `xdata` contain NaNs, or if incompatible options\n",
      "        are used.\n",
      "    \n",
      "    RuntimeError\n",
      "        if the least-squares minimization fails.\n",
      "    \n",
      "    OptimizeWarning\n",
      "        if covariance of the parameters can not be estimated.\n",
      "    \n",
      "    See Also\n",
      "    --------\n",
      "    least_squares : Minimize the sum of squares of nonlinear functions.\n",
      "    scipy.stats.linregress : Calculate a linear least squares regression for\n",
      "                             two sets of measurements.\n",
      "    \n",
      "    Notes\n",
      "    -----\n",
      "    With ``method='lm'``, the algorithm uses the Levenberg-Marquardt algorithm\n",
      "    through `leastsq`. Note that this algorithm can only deal with\n",
      "    unconstrained problems.\n",
      "    \n",
      "    Box constraints can be handled by methods 'trf' and 'dogbox'. Refer to\n",
      "    the docstring of `least_squares` for more information.\n",
      "    \n",
      "    Examples\n",
      "    --------\n",
      "    >>> import numpy as np\n",
      "    >>> import matplotlib.pyplot as plt\n",
      "    >>> from scipy.optimize import curve_fit\n",
      "    \n",
      "    >>> def func(x, a, b, c):\n",
      "    ...     return a * np.exp(-b * x) + c\n",
      "    \n",
      "    Define the data to be fit with some noise:\n",
      "    \n",
      "    >>> xdata = np.linspace(0, 4, 50)\n",
      "    >>> y = func(xdata, 2.5, 1.3, 0.5)\n",
      "    >>> np.random.seed(1729)\n",
      "    >>> y_noise = 0.2 * np.random.normal(size=xdata.size)\n",
      "    >>> ydata = y + y_noise\n",
      "    >>> plt.plot(xdata, ydata, 'b-', label='data')\n",
      "    \n",
      "    Fit for the parameters a, b, c of the function `func`:\n",
      "    \n",
      "    >>> popt, pcov = curve_fit(func, xdata, ydata)\n",
      "    >>> popt\n",
      "    array([ 2.55423706,  1.35190947,  0.47450618])\n",
      "    >>> plt.plot(xdata, func(xdata, *popt), 'r-',\n",
      "    ...          label='fit: a=%5.3f, b=%5.3f, c=%5.3f' % tuple(popt))\n",
      "    \n",
      "    Constrain the optimization to the region of ``0 <= a <= 3``,\n",
      "    ``0 <= b <= 1`` and ``0 <= c <= 0.5``:\n",
      "    \n",
      "    >>> popt, pcov = curve_fit(func, xdata, ydata, bounds=(0, [3., 1., 0.5]))\n",
      "    >>> popt\n",
      "    array([ 2.43708906,  1.        ,  0.35015434])\n",
      "    >>> plt.plot(xdata, func(xdata, *popt), 'g--',\n",
      "    ...          label='fit: a=%5.3f, b=%5.3f, c=%5.3f' % tuple(popt))\n",
      "    \n",
      "    >>> plt.xlabel('x')\n",
      "    >>> plt.ylabel('y')\n",
      "    >>> plt.legend()\n",
      "    >>> plt.show()\n",
      "\n"
     ]
    }
   ],
   "source": [
    "print(1./x.mean())\n",
    "help(curve_fit)"
   ]
  },
  {
   "cell_type": "code",
   "execution_count": null,
   "metadata": {},
   "outputs": [],
   "source": []
  },
  {
   "cell_type": "code",
   "execution_count": 25,
   "metadata": {},
   "outputs": [
    {
     "name": "stdout",
     "output_type": "stream",
     "text": [
      "13\n"
     ]
    }
   ],
   "source": [
    "\n",
    "minLineLength = min(img_heigth, img_width)/10\n",
    "maxLineGap = 10\n",
    "lines = cv2.HoughLinesP(edges, 1, np.pi / 90, 100, minLineLength=minLineLength, maxLineGap=maxLineGap)\n",
    "\n",
    "bin_threshold, bin_img_bak = cv2.threshold(gray_img,0,1,cv2.THRESH_BINARY+cv2.THRESH_OTSU)\n",
    "\n",
    "#draw image with straight line(s) if lines is not None\n",
    "if len(lines)!=0:\n",
    "    print(len(lines))\n",
    "    for line in lines:\n",
    "        for x1, y1, x2, y2 in line:\n",
    "            cv2.line(bin_img_bak, (x1, y1), (x2, y2), (255, 255, 255), 1)\n",
    "    PIL_img_show(bin_img_bak)"
   ]
  },
  {
   "cell_type": "code",
   "execution_count": null,
   "metadata": {},
   "outputs": [],
   "source": []
  },
  {
   "cell_type": "code",
   "execution_count": null,
   "metadata": {},
   "outputs": [],
   "source": []
  },
  {
   "cell_type": "code",
   "execution_count": 38,
   "metadata": {},
   "outputs": [
    {
     "name": "stdout",
     "output_type": "stream",
     "text": [
      "h\n",
      "haha\n",
      "2 0\n"
     ]
    }
   ],
   "source": [
    "img_id = 2\n",
    "img_name = 'img_'+str(1000000+img_id)+'.png'\n",
    "img = cv2.imread(img_path + img_name)\n",
    "print(img_id, get_straight_line_cnt(img, 1))"
   ]
  },
  {
   "cell_type": "code",
   "execution_count": 44,
   "metadata": {},
   "outputs": [],
   "source": [
    "def get_straight_line_cnt(img):\n",
    "    \n",
    "    gray_img = cv2.cvtColor(img, cv2.COLOR_BGR2GRAY)\n",
    "    img_heigth, img_width = gray_img.shape[:2]\n",
    "    #print(img_heigth, img_width)\n",
    "\n",
    "    bin_threshold, bin_img = cv2.threshold(gray_img,0,255,cv2.THRESH_BINARY+cv2.THRESH_OTSU)\n",
    "#    PIL_img_show(gray_img)\n",
    "#     PIL_img_show(bin_img)\n",
    "\n",
    "    edges = cv2.Canny(bin_img, 50, 150, apertureSize=3)\n",
    "#     PIL_img_show(edges)\n",
    "    minLineLength = min(img_heigth, img_width)/5\n",
    "    maxLineGap = 10\n",
    "    lines = cv2.HoughLinesP(edges, 1, np.pi / 180, 100, minLineLength=minLineLength, maxLineGap=maxLineGap)\n",
    "    \n",
    "    try:\n",
    "        lines_cnt = len(lines)\n",
    "    except:\n",
    "        lines_cnt = 0\n",
    "    \n",
    "    return lines_cnt"
   ]
  },
  {
   "cell_type": "code",
   "execution_count": 45,
   "metadata": {},
   "outputs": [
    {
     "name": "stdout",
     "output_type": "stream",
     "text": [
      "0 0\n",
      "1 0\n",
      "2 0\n",
      "3 0\n",
      "4 0\n",
      "5 0\n",
      "6 1\n",
      "7 0\n",
      "8 0\n",
      "9 0\n",
      "10 0\n",
      "11 0\n",
      "12 0\n",
      "13 0\n",
      "14 0\n",
      "15 0\n",
      "16 0\n",
      "17 0\n",
      "18 0\n",
      "19 0\n",
      "20 0\n",
      "21 0\n",
      "22 0\n",
      "23 4\n",
      "24 0\n",
      "25 2\n",
      "26 20\n",
      "27 8\n",
      "28 6\n",
      "29 6\n",
      "30 40\n",
      "31 19\n",
      "32 11\n",
      "33 16\n",
      "34 14\n",
      "35 16\n",
      "36 30\n",
      "37 20\n",
      "38 213\n",
      "39 8\n",
      "40 20\n",
      "41 7\n"
     ]
    }
   ],
   "source": [
    "for img_id in range(42):\n",
    "    img_name = 'img_'+str(1000000+img_id)+'.png'\n",
    "    img = cv2.imread(img_path + img_name)\n",
    "    print(img_id, get_straight_line_cnt(img))"
   ]
  },
  {
   "cell_type": "code",
   "execution_count": null,
   "metadata": {},
   "outputs": [],
   "source": []
  }
 ],
 "metadata": {
  "kernelspec": {
   "display_name": "Python 3",
   "language": "python",
   "name": "python3"
  },
  "language_info": {
   "codemirror_mode": {
    "name": "ipython",
    "version": 3
   },
   "file_extension": ".py",
   "mimetype": "text/x-python",
   "name": "python",
   "nbconvert_exporter": "python",
   "pygments_lexer": "ipython3",
   "version": "3.6.5"
  }
 },
 "nbformat": 4,
 "nbformat_minor": 2
}
