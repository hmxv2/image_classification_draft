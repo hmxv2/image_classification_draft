{
 "cells": [
  {
   "cell_type": "code",
   "execution_count": 1,
   "metadata": {},
   "outputs": [],
   "source": [
    "from PIL import Image, ImageOps\n",
    "import cv2\n",
    "import json\n",
    "import numpy as np\n",
    "\n",
    "import matplotlib.pyplot as plt\n",
    "\n",
    "\n",
    "img_path = '../OCR_data/output/'"
   ]
  },
  {
   "cell_type": "code",
   "execution_count": 10,
   "metadata": {},
   "outputs": [],
   "source": [
    "def PIL_img_show(img):\n",
    "    Image.fromarray(img).show()\n",
    "\n",
    "def get_straight_line_cnt(bin_img):\n",
    "    img_height, img_width = bin_img.shape[:2]\n",
    "    \n",
    "    edges = cv2.Canny(bin_img, 50, 150, apertureSize=3)\n",
    "#     PIL_img_show(edges)\n",
    "    minLineLength = min(img_height, img_width)/2\n",
    "    maxLineGap = 10\n",
    "    lines = cv2.HoughLinesP(edges, 1, np.pi / 180, 100, minLineLength=minLineLength, maxLineGap=maxLineGap)\n",
    "    \n",
    "    try:\n",
    "        lines_cnt = len(lines)\n",
    "    except:\n",
    "        lines_cnt = 0\n",
    "    \n",
    "    #draw image with straight line(s) if lines is not None\n",
    "    if 1:    #drawing control: 0 means not to draw.\n",
    "        if lines_cnt!=0:\n",
    "            tmp_img = bin_img - bin_img\n",
    "            for line in lines:\n",
    "                for x1, y1, x2, y2 in line:\n",
    "                    cv2.line(tmp_img, (x1, y1), (x2, y2), (255, 255, 255), 1)\n",
    "            PIL_img_show(tmp_img)\n",
    "\n",
    "    return lines_cnt"
   ]
  },
  {
   "cell_type": "code",
   "execution_count": 11,
   "metadata": {},
   "outputs": [
    {
     "name": "stdout",
     "output_type": "stream",
     "text": [
      "0 0\n",
      "1 0\n",
      "2 0\n",
      "3 0\n",
      "4 0\n",
      "5 0\n",
      "6 0\n",
      "7 0\n",
      "8 0\n",
      "9 0\n",
      "10 0\n",
      "11 0\n",
      "12 0\n",
      "13 0\n",
      "14 0\n",
      "15 0\n",
      "16 0\n",
      "17 0\n",
      "18 0\n",
      "19 0\n",
      "20 0\n",
      "21 0\n",
      "22 0\n",
      "23 0\n",
      "24 0\n",
      "25 0\n",
      "26 0\n",
      "27 4\n",
      "28 6\n",
      "29 4\n",
      "30 33\n",
      "31 14\n",
      "32 9\n",
      "33 14\n",
      "34 10\n",
      "35 14\n",
      "36 28\n",
      "37 16\n",
      "38 165\n",
      "39 6\n",
      "40 8\n",
      "41 5\n"
     ]
    }
   ],
   "source": [
    "for img_id in range(42):\n",
    "    img_name = 'img_'+str(1000000+img_id)+'.png'\n",
    "    img = cv2.imread(img_path + img_name)\n",
    "    \n",
    "    gray_img = cv2.cvtColor(img, cv2.COLOR_BGR2GRAY)\n",
    "    img_heigth, img_width = gray_img.shape[:2]\n",
    "    #print(img_heigth, img_width)\n",
    "\n",
    "    bin_threshold, bin_img = cv2.threshold(gray_img,0,255,cv2.THRESH_BINARY+cv2.THRESH_OTSU)\n",
    "#    PIL_img_show(gray_img)\n",
    "#     PIL_img_show(bin_img)\n",
    "\n",
    "\n",
    "    print(img_id, get_straight_line_cnt(bin_img))"
   ]
  },
  {
   "cell_type": "code",
   "execution_count": null,
   "metadata": {},
   "outputs": [],
   "source": []
  },
  {
   "cell_type": "code",
   "execution_count": null,
   "metadata": {},
   "outputs": [],
   "source": []
  },
  {
   "cell_type": "code",
   "execution_count": null,
   "metadata": {},
   "outputs": [],
   "source": []
  },
  {
   "cell_type": "code",
   "execution_count": null,
   "metadata": {},
   "outputs": [],
   "source": []
  },
  {
   "cell_type": "code",
   "execution_count": null,
   "metadata": {},
   "outputs": [],
   "source": [
    "img = cv2.imread(img_path + 'img_'+str(1000030)+'.png')\n",
    "gray_img = cv2.cvtColor(img, cv2.COLOR_BGR2GRAY)\n",
    "img_heigth, img_width = gray_img.shape[:2]\n",
    "print(img_heigth, img_width)\n",
    "\n",
    "\n",
    "bin_threshold, bin_img = cv2.threshold(gray_img,0,255,cv2.THRESH_BINARY+cv2.THRESH_OTSU)\n",
    "# PIL_img_show(gray_img)\n",
    "PIL_img_show(bin_img)\n",
    "\n",
    "kernel_size = (int(img_heigth/500), int(img_width/150))\n",
    "kernel = np.ones(kernel_size,np.uint8)\n",
    "erosion_img = cv2.dilate(bin_img,kernel,iterations = 1)\n",
    "\n",
    "edges = cv2.Canny(bin_img, 50, 150, apertureSize=3)\n",
    "PIL_img_show(edges)"
   ]
  },
  {
   "cell_type": "code",
   "execution_count": null,
   "metadata": {},
   "outputs": [],
   "source": [
    "\n",
    "minLineLength = min(img_heigth, img_width)/10\n",
    "maxLineGap = 10\n",
    "lines = cv2.HoughLinesP(edges, 1, np.pi / 90, 100, minLineLength=minLineLength, maxLineGap=maxLineGap)\n",
    "\n",
    "bin_threshold, bin_img_bak = cv2.threshold(gray_img,0,1,cv2.THRESH_BINARY+cv2.THRESH_OTSU)\n",
    "\n",
    "#draw image with straight line(s) if lines is not None\n",
    "if len(lines)!=0:\n",
    "    print(len(lines))\n",
    "    for line in lines:\n",
    "        for x1, y1, x2, y2 in line:\n",
    "            cv2.line(bin_img_bak, (x1, y1), (x2, y2), (255, 255, 255), 1)\n",
    "    PIL_img_show(bin_img_bak)"
   ]
  },
  {
   "cell_type": "code",
   "execution_count": null,
   "metadata": {},
   "outputs": [],
   "source": []
  }
 ],
 "metadata": {
  "kernelspec": {
   "display_name": "Python 3",
   "language": "python",
   "name": "python3"
  },
  "language_info": {
   "codemirror_mode": {
    "name": "ipython",
    "version": 3
   },
   "file_extension": ".py",
   "mimetype": "text/x-python",
   "name": "python",
   "nbconvert_exporter": "python",
   "pygments_lexer": "ipython3",
   "version": "3.6.5"
  }
 },
 "nbformat": 4,
 "nbformat_minor": 2
}
