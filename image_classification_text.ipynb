{
 "cells": [
  {
   "cell_type": "code",
   "execution_count": null,
   "metadata": {},
   "outputs": [],
   "source": [
    "from PIL import Image, ImageOps\n",
    "import cv2\n",
    "import json\n",
    "import numpy as np\n",
    "\n",
    "import matplotlib.pyplot as plt\n",
    "import random\n",
    "import pytesseract\n",
    "pytesseract.pytesseract.tesseract_cmd = r'C:\\Program Files (x86)\\Tesseract-OCR\\tesseract.exe'\n",
    "\n",
    "img_path = '../OCR_data/output/'"
   ]
  },
  {
   "cell_type": "code",
   "execution_count": 142,
   "metadata": {},
   "outputs": [],
   "source": [
    "def PIL_img_show(img):\n",
    "    Image.fromarray(img).show()\n",
    "\n",
    "def contours_filter(contours, hierarchy):#汉字的一个特点是文字内部有空洞，由此形成连通域，但是检测句子所在行的话应该去掉这部分\n",
    "    first_child = hierarchy[0][0][2]\n",
    "    next_child = first_child\n",
    "    all_children=[]\n",
    "    while(next_child!=-1):\n",
    "        all_children.append(next_child)\n",
    "        next_child = hierarchy[0][next_child][0]\n",
    "    contours_filtered = [contours[x] for x in all_children]\n",
    "    \n",
    "#     print(len(all_children), all_children)\n",
    "    return contours_filtered\n",
    "\n",
    "def get_text_rate(bin_img, boxs_horizontal):\n",
    "    \n",
    "    img_heigth, img_width = bin_img.shape\n",
    "    small_point_cnt=0\n",
    "    large_not_text_cnt=0\n",
    "    small_not_text_cnt=0\n",
    "    all_text_str=[]\n",
    "    all_ROI_area_rate=[]\n",
    "    text_rate_metric=0\n",
    "\n",
    "    for idx, box_horizontal in enumerate(boxs_horizontal):\n",
    "        x1,y1=box_horizontal[0]\n",
    "        x2,y2=box_horizontal[2]\n",
    "        img_ROI = bin_img[y1:y2, x1:x2]\n",
    "        ROI_area = (x2-x1)*(y2-y1)\n",
    "        ROI_area_rate = ROI_area/img_heigth/img_width\n",
    "\n",
    "\n",
    "        if ROI_area/img_heigth/img_width<0.0005:#是小的噪点，不是中文或字母\n",
    "            small_point_cnt+=1\n",
    "        elif ((sum(sum(1-img_ROI/255)))/ROI_area)>0.7:#黑色部分太大，属于大片黑色非文字区域\n",
    "            large_not_text_cnt+=1\n",
    "        else:\n",
    "            text_str = pytesseract.image_to_string(Image.fromarray(img_ROI), lang='chi_sim')\n",
    "            if text_str=='' or text_str ==' ' or text_str=='\\t':\n",
    "                small_not_text_cnt+=1\n",
    "            else:\n",
    "                #print(idx, text_str, ROI_area_rate, ROI_area_rate)\n",
    "                all_text_str.append(text_str)\n",
    "                all_ROI_area_rate.append(ROI_area_rate)\n",
    "    print(small_point_cnt, large_not_text_cnt, small_not_text_cnt)\n",
    "\n",
    "    \n",
    "    ROI_area_weights=np.array(all_ROI_area_rate/sum(all_ROI_area_rate))\n",
    "    all_test_length=[len(x) for x in all_text_str]\n",
    "    length_div_area=np.array(all_test_length)/np.array(all_ROI_area_rate)\n",
    "\n",
    "    text_rate_metric = np.mean((length_div_area-length_div_area.mean())**2*ROI_area_weights)\n",
    "    return text_rate_metric\n",
    "\n",
    "#     for i in range(len(all_text_str)):\n",
    "#         text_rate_metric+=len(all_text_str[i])/all_ROI_area_rate[i]\n",
    "\n",
    "#     return text_rate_metric/len(all_text_str)\n",
    "\n",
    "def get_likely_text_area(bin_img):\n",
    "    \n",
    "    img_height, img_width = bin_img.shape[:2]\n",
    "    \n",
    "    kernel_size = (int(img_height/400), int(img_width/1000))\n",
    "    kernel = np.ones(kernel_size,np.uint8)\n",
    "    dilate_img = cv2.dilate(bin_img,kernel,iterations = 1)\n",
    "#     PIL_img_show(dilate_img)\n",
    "\n",
    "    kernel_size = (int(img_height/400), int(img_width/80))\n",
    "    kernel = np.ones(kernel_size,np.uint8)\n",
    "    erosion_img = cv2.erode(dilate_img,kernel,iterations = 2)\n",
    "    \n",
    "    image, contours, hierarchy = cv2.findContours(erosion_img,cv2.RETR_TREE,cv2.CHAIN_APPROX_SIMPLE)#CHAIN_APPROX_SIMPLE\n",
    "\n",
    "#     tmp_img = erosion_img-erosion_img\n",
    "#     cv2.drawContours(tmp_img,contours,-1,(100,100,100),5)\n",
    "#     PIL_img_show(tmp_img)\n",
    "\n",
    "#     print(len(contours))\n",
    "    contours_filtered = contours_filter(contours, hierarchy)\n",
    "#    print(len(contours_filtered))\n",
    "    areas=[]\n",
    "    rects=[]#矩形信息包括：矩形中心，高度，宽度，旋转角\n",
    "    boxs=[]#矩形信息包括：矩形四个点的坐标，经过rects信息计算而来，经过了计算把浮点数转化为图像坐标，矩形可以不是水平的。\n",
    "\n",
    "    for cnt in contours_filtered:\n",
    "        area = cv2.contourArea(cnt)\n",
    "        areas.append(area)\n",
    "\n",
    "        rect = cv2.minAreaRect(cnt) # 得到最小外接矩形的（中心(x,y), (宽,高), 旋转角度）\n",
    "        rects.append(rect)\n",
    "\n",
    "        box = cv2.boxPoints(rect) # cv2.boxPoints(rect) for OpenCV 3.x 获取最小外接矩形的4个顶点\n",
    "        box = np.int0(box)\n",
    "        boxs.append(box)\n",
    "\n",
    "#     tmp_img = erosion_img-erosion_img\n",
    "#     cv2.drawContours(tmp_img,boxs,-1,(100,100,100),5)\n",
    "#     PIL_img_show(tmp_img)\n",
    "    \n",
    "    boxs_horizontal=[]#将boxs化为方向水平，但是如果句子是倾斜的则圈出的范围过于宽泛。\n",
    "    for box in boxs:\n",
    "        x1=min(box[0][0], box[1][0], box[2][0], box[3][0])\n",
    "        x2=max(box[0][0], box[1][0], box[2][0], box[3][0])\n",
    "        y1=min(box[0][1], box[1][1], box[2][1], box[3][1])\n",
    "        y2=max(box[0][1], box[1][1], box[2][1], box[3][1])\n",
    "        boxs_horizontal.append(np.array([[x1,y1],[x2,y1],[x2,y2],[x1,y2]]))\n",
    "\n",
    "#     print(len(boxs_horizontal))\n",
    "    return boxs_horizontal, boxs\n",
    "\n",
    "def dilate_and_erode(bin_img):\n",
    "    img_height, img_width = bin_img.shape[:2]\n",
    "    \n",
    "    kernel_size = (int(img_height/400), 0)\n",
    "    kernel = np.ones(kernel_size,np.uint8)\n",
    "    dilate_img = cv2.dilate(bin_img,kernel,iterations = 1)\n",
    "#     PIL_img_show(dilate_img)\n",
    "\n",
    "    kernel_size = (int(img_height/400), int(img_width/80))\n",
    "    kernel = np.ones(kernel_size,np.uint8)\n",
    "    erosion_img = cv2.erode(dilate_img,kernel,iterations = 2)\n",
    "    \n",
    "    return erosion_img"
   ]
  },
  {
   "cell_type": "code",
   "execution_count": 143,
   "metadata": {},
   "outputs": [
    {
     "name": "stdout",
     "output_type": "stream",
     "text": [
      "4 0 1\n",
      "0 249840.4517783487\n",
      "6 3 2\n",
      "1 47916.27646977664\n",
      "9 3 5\n",
      "2 50963.19897738599\n",
      "10 3 4\n",
      "3 21436.799812854297\n",
      "6 3 2\n",
      "4 21461.09754033595\n",
      "15 3 1\n",
      "5 61087.228558036586\n",
      "6 1 6\n",
      "6 70209.54529182124\n",
      "3 1 9\n",
      "7 65608.3676154649\n",
      "5 1 8\n",
      "8 33852.647031370936\n",
      "6 1 5\n",
      "9 100318.26252107139\n",
      "2 1 7\n",
      "10 26597.58037824231\n",
      "1 0 1\n",
      "11 59037.333999206196\n",
      "2 1 6\n",
      "12 181419.5938732705\n",
      "4 1 5\n",
      "13 6484.143413177878\n",
      "7 0 5\n",
      "14 261160.1906568356\n",
      "3 0 10\n",
      "15 59905.59910113714\n",
      "32 1 3\n",
      "16 77212.85318550986\n",
      "68 0 17\n",
      "17 575806.1264389001\n",
      "8 0 2\n",
      "18 13325.455336898573\n",
      "8 0 1\n",
      "19 38368.2520897021\n",
      "3 0 4\n",
      "20 21121.85222747711\n",
      "8 0 1\n",
      "21 13908.388155154087\n",
      "12 3 3\n",
      "22 31427.4614190713\n",
      "7 3 3\n",
      "23 11878.25693030198\n",
      "5 3 7\n",
      "24 17917.742342063917\n",
      "25 3 3\n",
      "25 65205.83963195457\n",
      "7 0 7\n",
      "26 334502.67840087\n",
      "3 2 9\n",
      "27 58205.04480135725\n",
      "9 1 2\n",
      "28 392851.3887511138\n",
      "8 1 8\n",
      "29 134423.70190482546\n",
      "30 1 17\n",
      "30 311969.8501063694\n",
      "5 1 12\n",
      "31 423889.8721642086\n",
      "16 1 6\n",
      "32 1221089.711201047\n",
      "6 1 5\n",
      "33 117359.93967368717\n",
      "3 1 4\n",
      "34 123144.29975053803\n",
      "34 1 9\n",
      "35 246805.79921082308\n",
      "11 1 21\n",
      "36 67972.86451995061\n",
      "8 1 10\n",
      "37 74208.78309973348\n",
      "9 1 1\n",
      "38 695600.4086921891\n",
      "3 1 2\n",
      "39 146514.19319082625\n",
      "3 4 2\n",
      "40 1298625.2856544617\n",
      "4 1 2\n",
      "41 364400.9559661256\n"
     ]
    }
   ],
   "source": [
    "for img_id in range(42):\n",
    "    img_name = 'img_'+str(1000000+img_id)+'.png'\n",
    "    img = cv2.imread(img_path + img_name)\n",
    "    gray_img = cv2.cvtColor(img, cv2.COLOR_BGR2GRAY)\n",
    "\n",
    "    img_heigth, img_width = gray_img.shape[:2]\n",
    "    \n",
    "    bin_threshold, bin_img = cv2.threshold(gray_img,0,255,cv2.THRESH_BINARY+cv2.THRESH_OTSU)\n",
    "    \n",
    "#     PIL_img_show(erosion_img)\n",
    "    boxs_horizontal, boxs = get_likely_text_area(bin_img)\n",
    "    text_rate_metric = get_text_rate(bin_img, boxs_horizontal)\n",
    "    print(img_id, text_rate_metric)"
   ]
  },
  {
   "cell_type": "code",
   "execution_count": null,
   "metadata": {},
   "outputs": [],
   "source": []
  },
  {
   "cell_type": "code",
   "execution_count": null,
   "metadata": {},
   "outputs": [],
   "source": []
  },
  {
   "cell_type": "code",
   "execution_count": null,
   "metadata": {},
   "outputs": [],
   "source": []
  },
  {
   "cell_type": "code",
   "execution_count": 126,
   "metadata": {},
   "outputs": [
    {
     "name": "stdout",
     "output_type": "stream",
     "text": [
      "3462 2446\n"
     ]
    }
   ],
   "source": [
    "img = cv2.imread(img_path + 'img_'+str(1000017)+'.png')\n",
    "gray_img = cv2.cvtColor(img, cv2.COLOR_BGR2GRAY)\n",
    "\n",
    "img_heigth, img_width = gray_img.shape[:2]\n",
    "print(img_heigth, img_width)\n",
    "\n",
    "\n",
    "bin_threshold, bin_img = cv2.threshold(gray_img,0,255,cv2.THRESH_BINARY+cv2.THRESH_OTSU)\n",
    "# PIL_img_show(gray_img)\n",
    "PIL_img_show(bin_img)\n",
    "\n",
    "kernel_size = (int(img_heigth/400), int(img_width/1000))\n",
    "kernel = np.ones(kernel_size,np.uint8)\n",
    "dilate_img = cv2.dilate(bin_img,kernel,iterations = 1)\n",
    "PIL_img_show(dilate_img)\n",
    "\n",
    "kernel_size = (int(img_heigth/400), int(img_width/80))\n",
    "kernel = np.ones(kernel_size,np.uint8)\n",
    "erosion_img = cv2.erode(dilate_img,kernel,iterations = 2)\n",
    "PIL_img_show(erosion_img)"
   ]
  },
  {
   "cell_type": "code",
   "execution_count": 127,
   "metadata": {
    "scrolled": true
   },
   "outputs": [
    {
     "name": "stdout",
     "output_type": "stream",
     "text": [
      "135\n",
      "131\n"
     ]
    }
   ],
   "source": [
    "#image,contours,hierarchy=cv2.findContours(erosion_img,1,2)\n",
    "\n",
    "# cv2.RETR_EXTERNAL表示只检测外轮廓\n",
    "# cv2.RETR_LIST检测的轮廓不建立等级关系\n",
    "# cv2.RETR_CCOMP建立两个等级的轮廓，上面的一层为外边界，里面的一层为内孔的边界信息。如果内孔内还有一个连通物体，这个物体的边界也在顶层。\n",
    "# cv2.RETR_TREE建立一个等级树结构的轮廓。\n",
    "image, contours, hierarchy = cv2.findContours(erosion_img,cv2.RETR_TREE,cv2.CHAIN_APPROX_SIMPLE)#CHAIN_APPROX_SIMPLE\n",
    "\n",
    "tmp_img = erosion_img-erosion_img\n",
    "cv2.drawContours(tmp_img,contours,-1,(100,100,100),5)\n",
    "PIL_img_show(tmp_img)\n",
    "\n",
    "print(len(contours))\n",
    "contours_filtered = contours_filter(contours, hierarchy)\n",
    "print(len(contours_filtered))\n",
    "areas=[]\n",
    "rects=[]#矩形信息包括：矩形中心，高度，宽度，旋转角\n",
    "boxs=[]#矩形信息包括：矩形四个点的坐标，经过rects信息计算而来，经过了计算把浮点数转化为图像坐标，矩形可以不是水平的。\n",
    "\n",
    "for cnt in contours_filtered:\n",
    "    area = cv2.contourArea(cnt)\n",
    "    areas.append(area)\n",
    "    \n",
    "    rect = cv2.minAreaRect(cnt) # 得到最小外接矩形的（中心(x,y), (宽,高), 旋转角度）\n",
    "    rects.append(rect)\n",
    "    \n",
    "    box = cv2.boxPoints(rect) # cv2.boxPoints(rect) for OpenCV 3.x 获取最小外接矩形的4个顶点\n",
    "    box = np.int0(box)\n",
    "    boxs.append(box)\n",
    "\n",
    "tmp_img = erosion_img-erosion_img\n",
    "cv2.drawContours(tmp_img,boxs,-1,(100,100,100),5)\n",
    "PIL_img_show(tmp_img)\n"
   ]
  },
  {
   "cell_type": "code",
   "execution_count": 128,
   "metadata": {},
   "outputs": [
    {
     "name": "stdout",
     "output_type": "stream",
     "text": [
      "131\n"
     ]
    }
   ],
   "source": [
    "boxs_horizontal=[]#将boxs化为方向水平，但是如果句子是倾斜的则圈出的范围过于宽泛。\n",
    "for box in boxs:\n",
    "    x1=min(box[0][0], box[1][0], box[2][0], box[3][0])\n",
    "    x2=max(box[0][0], box[1][0], box[2][0], box[3][0])\n",
    "    y1=min(box[0][1], box[1][1], box[2][1], box[3][1])\n",
    "    y2=max(box[0][1], box[1][1], box[2][1], box[3][1])\n",
    "    boxs_horizontal.append(np.array([[x1,y1],[x2,y1],[x2,y2],[x1,y2]]))\n",
    "    \n",
    "print(len(boxs_horizontal))\n",
    "\n",
    "cv2.drawContours(gray_img,boxs_horizontal,-1,(100,100,100),5)\n",
    "PIL_img_show(gray_img)"
   ]
  },
  {
   "cell_type": "code",
   "execution_count": 131,
   "metadata": {},
   "outputs": [
    {
     "name": "stdout",
     "output_type": "stream",
     "text": [
      "68 0 17\n",
      "575806.1264389001\n",
      "['(\" M噩', 'spir0_ab \"】 S/N 312578', '所用仪器', '1 肺通气功能正常', '结论', \"BfPS 1′101 23 'c 73.4 ”F\", 'FEF2575', \"FEV1'FVC\", 'FEV1′VC', 'FEV1', \"2.52\\n2.06\\n81'5\\n81′5\\n5'51\\n2′21\\n\\n50\\n600\\n\\n252\", '1.34\\n084\\n\\n62′7\\n096\\n066\\n111\\n3.93\\n50', '97\\n94\\n\\n97\\n59\\n83\\n1 1 2\\n53', \"2'45\\n1.94\\n\\n79.2\\n3'27\\n1 .82\\n56\\n3^2o\\n110\", '2_17\\n1.58\\n\\n72-8\\n2.69\\n1.29\\n\\n74\\n3.12', \"Z'sc。re\", '%预 计', 'POST攀1', '%预 计', '%激发', '前阆墅 旦期 2018-01-芝6 08:33:4O', '曹堇 间', \"3'27 _\", '` 已预测的 - Hdng Kong Thoracic Society', 'FEV1% %', \"79'20\", 'FEV1 L', '扁 %预计 Z-霾c。re', '后 %瀛发', '全部曲线之最佳值', '正常肺量计', '评估', '患者组', '吸烟', '包-年', '21.36', '出生日期', '童量` kg', '高度 cm', '性别', '病人号码', '年龄', '应诊 日 期 20′1喹吐-26', '胍胁唰胁愤\\n\\nShenzh鸳n Hosp‖藿【 酥 sou【h髦m M蛐ka[ un岫脂‖y', \"是 绯 梳员蒯睿量和容蜀时间\\n\\nf/誓堇帘i丨l|医脘\\n\\n暴fsou【hem Me傣kaLun岫脂‖y\\n\\n \\n\\n年龄\\n性别\\n高度 cm\\n卜 重量 kg\\nBM| 21.36\\n包-年\\n\\n__=鳕蘸-{盗勒t萝胭_鬣__\\n\\n鞠\\n\\n \\n\\n \\n\\n菌 %预计 Z-ac。re 后 %滇发\\n\\n2'45 97\\n1 '94 94\\n79'20 97\\n3'27 ' 59\\n\\n \\n\\n0 1 2 3 窜墨… 5 6 了\", '肺功能测验结埕]']\n"
     ]
    }
   ],
   "source": [
    "small_point_cnt=0\n",
    "large_not_text_cnt=0\n",
    "small_not_text_cnt=0\n",
    "all_text_str=[]\n",
    "all_ROI_area_rate=[]\n",
    "text_rate_metric=0\n",
    "\n",
    "for idx, box_horizontal in enumerate(boxs_horizontal):\n",
    "    x1,y1=box_horizontal[0]\n",
    "    x2,y2=box_horizontal[2]\n",
    "    img_ROI = bin_img[y1:y2, x1:x2]\n",
    "    ROI_area = (x2-x1)*(y2-y1)\n",
    "    ROI_area_rate = ROI_area/img_heigth/img_width\n",
    "    \n",
    "    \n",
    "    if ROI_area/img_heigth/img_width<0.0005:#是小的噪点，不是中文或字母\n",
    "        small_point_cnt+=1\n",
    "    elif ((sum(sum(1-img_ROI/255)))/ROI_area)>0.7:#黑色部分太大，属于大片黑色非文字区域\n",
    "        large_not_text_cnt+=1\n",
    "    else:\n",
    "        text_str = pytesseract.image_to_string(Image.fromarray(img_ROI), lang='chi_sim')\n",
    "        if text_str=='' or text_str ==' ' or text_str=='\\t':# (len(text_str)<=3 and '\\t' in text_str):\n",
    "            small_not_text_cnt+=1\n",
    "        else:\n",
    "            #print(idx, text_str, ROI_area_rate, ROI_area_rate)\n",
    "            all_text_str.append(text_str)\n",
    "            all_ROI_area_rate.append(ROI_area_rate)\n",
    "print(small_point_cnt, large_not_text_cnt, small_not_text_cnt)\n",
    "\n",
    "ROI_area_weights=np.array(all_ROI_area_rate/sum(all_ROI_area_rate))\n",
    "all_test_length=[len(x) for x in all_text_str]\n",
    "length_div_area=np.array(all_test_length)/np.array(all_ROI_area_rate)\n",
    "\n",
    "text_rate_metric = np.mean((length_div_area-length_div_area.mean())**2*ROI_area_weights)\n",
    "print(text_rate_metric)\n",
    "\n",
    "# for i in range(len(all_text_str)):\n",
    "#     text_rate_metric+=len(all_text_str[i])/all_ROI_area_rate[i]*ROI_area_weights[i]\n",
    "\n",
    "# print(text_rate_metric/len(all_text_str))\n",
    "print(all_text_str)"
   ]
  },
  {
   "cell_type": "code",
   "execution_count": 130,
   "metadata": {},
   "outputs": [
    {
     "name": "stdout",
     "output_type": "stream",
     "text": [
      "[ 7613.69976359  4942.08951407  3450.6375     11451.00444444\n",
      "  3790.17391304  3304.30403557  2049.15906681  3154.86857143\n",
      "  3209.89534884  2752.64529915  3209.89534884  1908.50074074\n",
      "  4675.05725806  4202.29865893]\n",
      "[0.01949466 0.0210232  0.01720569 0.020739   0.0587413  0.02245957\n",
      " 0.63016603 0.0235234  0.02312014 0.0269607  0.02312014 0.0933255\n",
      " 0.00952458 0.01059609]\n",
      "4265.302104536537\n"
     ]
    }
   ],
   "source": [
    "length_div_area=np.array(all_test_length)/np.array(all_ROI_area_rate)\n",
    "print(length_div_area)\n",
    "print(ROI_area_weights)\n",
    "print(length_div_area.mean())"
   ]
  },
  {
   "cell_type": "code",
   "execution_count": 88,
   "metadata": {},
   "outputs": [
    {
     "name": "stdout",
     "output_type": "stream",
     "text": [
      "[0.00011337 0.00011337 0.00011337 0.00012966 0.00013179 0.00030113\n",
      " 0.00045087 0.00045087 0.00045347 0.00046055 0.00046481 0.00049386\n",
      " 0.00056684 0.00056684 0.00068493 0.00070855 0.00071705 0.00072626\n",
      " 0.00073689 0.00074303 0.00079499 0.00079829 0.00080101 0.00083254\n",
      " 0.00084742 0.00086088 0.00087812 0.00088001 0.00088993 0.00090127\n",
      " 0.0009034  0.00091166 0.00091509 0.00094048 0.00094898 0.00101558\n",
      " 0.0010366  0.00104298 0.00105148 0.00106849 0.00107002 0.00110155\n",
      " 0.00120158 0.00121161 0.00133632 0.00133868 0.00134482 0.00135096\n",
      " 0.00135816 0.00136608 0.00137068 0.00137694 0.00137694 0.00138946\n",
      " 0.00139017 0.00139123 0.00139938 0.0014093  0.00143693 0.00143953\n",
      " 0.00149869 0.00154132 0.0016352  0.00172554 0.00183017 0.00197046\n",
      " 0.00198747 0.00214985 0.0021554  0.00240634 0.00255714 0.00257792\n",
      " 0.00290327 0.02399666 0.02554484 0.02631892]\n"
     ]
    }
   ],
   "source": [
    "x=[]\n",
    "for idx, box_horizontal in enumerate(boxs_horizontal):\n",
    "    x1,y1=box_horizontal[0]\n",
    "    x2,y2=box_horizontal[2]\n",
    "    x.append((x2-x1)*(y2-y1))\n",
    "print(np.sort(x)/img_heigth/img_width)"
   ]
  },
  {
   "cell_type": "code",
   "execution_count": 80,
   "metadata": {},
   "outputs": [],
   "source": []
  },
  {
   "cell_type": "code",
   "execution_count": 50,
   "metadata": {},
   "outputs": [
    {
     "name": "stdout",
     "output_type": "stream",
     "text": [
      "[[[   0    0]]\n",
      "\n",
      " [[   0 2394]]\n",
      "\n",
      " [[  24 2394]]\n",
      "\n",
      " [[  25 2395]]\n",
      "\n",
      " [[  25 2405]]\n",
      "\n",
      " [[  23 2407]]\n",
      "\n",
      " [[  23 2410]]\n",
      "\n",
      " [[  22 2411]]\n",
      "\n",
      " [[   0 2411]]\n",
      "\n",
      " [[   0 3421]]\n",
      "\n",
      " [[2155 3421]]\n",
      "\n",
      " [[2155 3413]]\n",
      "\n",
      " [[2156 3412]]\n",
      "\n",
      " [[2198 3412]]\n",
      "\n",
      " [[2199 3413]]\n",
      "\n",
      " [[2199 3421]]\n",
      "\n",
      " [[2225 3421]]\n",
      "\n",
      " [[2225    0]]]\n",
      "0\n",
      "remove the largest one if it is the whole image\n",
      "[0.639925423098675, 0.6767425826124811, 0.6840351239246291, 0.7258408805556562, 0.7710598878458345, 0.8208408359208399, 0.8311134076161699, 0.8620755294608167, 0.9061130269074427, 1.1340197117851143]\n",
      "16.995316757537903 -211.80751156698136 3422 2226\n"
     ]
    }
   ],
   "source": [
    "print(contours[areas.index(max(areas))])\n",
    "print(areas.index(max(areas)))\n",
    "\n",
    "areas_sorted = areas.copy()\n",
    "areas_sorted.sort()\n",
    "areas_sorted = [x/(img_heigth*img_width)*100 for x in areas_sorted]\n",
    "if areas_sorted[-1]>99.5:# to remove the largest contours if the largest is the whole image.\n",
    "    print('remove the largest one if it is the whole image')\n",
    "    areas_sorted = areas_sorted[:-1]\n",
    "print(areas_sorted[-10:])\n",
    "\n",
    "s=0\n",
    "for x in range(img_heigth):\n",
    "    for y in range(img_width):\n",
    "        s+=erosion_img.item(x,y)\n",
    "print(sum(areas_sorted), 1-s/img_heigth/img_width, img_heigth, img_width)"
   ]
  },
  {
   "cell_type": "code",
   "execution_count": 136,
   "metadata": {},
   "outputs": [
    {
     "ename": "TypeError",
     "evalue": "descriptor 'getChessboardSize' requires a 'cv2.aruco_CharucoBoard' object but received a 'numpy.ndarray'",
     "output_type": "error",
     "traceback": [
      "\u001b[1;31m---------------------------------------------------------------------------\u001b[0m",
      "\u001b[1;31mTypeError\u001b[0m                                 Traceback (most recent call last)",
      "\u001b[1;32m<ipython-input-136-f577f68b548a>\u001b[0m in \u001b[0;36m<module>\u001b[1;34m()\u001b[0m\n\u001b[1;32m----> 1\u001b[1;33m \u001b[0mretval\u001b[0m\u001b[1;33m=\u001b[0m\u001b[0mcv2\u001b[0m\u001b[1;33m.\u001b[0m\u001b[0maruco_CharucoBoard\u001b[0m\u001b[1;33m.\u001b[0m\u001b[0mgetChessboardSize\u001b[0m\u001b[1;33m(\u001b[0m\u001b[0mbin_img\u001b[0m\u001b[1;33m)\u001b[0m\u001b[1;33m\u001b[0m\u001b[0m\n\u001b[0m",
      "\u001b[1;31mTypeError\u001b[0m: descriptor 'getChessboardSize' requires a 'cv2.aruco_CharucoBoard' object but received a 'numpy.ndarray'"
     ]
    }
   ],
   "source": [
    "cv2.aruco_CharucoBoard()\n",
    "retval=cv2.aruco_CharucoBoard.getChessboardSize(bin_img)"
   ]
  },
  {
   "cell_type": "code",
   "execution_count": 132,
   "metadata": {},
   "outputs": [
    {
     "name": "stdout",
     "output_type": "stream",
     "text": [
      "\n",
      "textdetection.py\n",
      "       A demo script of the Extremal Region Filter algorithm described in:\n",
      "       Neumann L., Matas J.: Real-Time Scene Text Localization and Recognition, CVPR 2012\n",
      "\n",
      "Extracting Class Specific Extremal Regions from 9 channels ...\n",
      "    (...) this may take a while (...)\n",
      "1\n",
      "1\n",
      "1\n",
      "1\n",
      "0\n",
      "0\n",
      "0\n",
      "0\n",
      "0\n"
     ]
    }
   ],
   "source": []
  },
  {
   "cell_type": "code",
   "execution_count": 63,
   "metadata": {},
   "outputs": [
    {
     "name": "stdout",
     "output_type": "stream",
     "text": [
      "[[2027 3323]\n",
      " [2088 3323]\n",
      " [2088 3341]\n",
      " [2027 3341]]\n",
      "2027 2088 3323 3341\n",
      "[[255 255 255 ... 255 255 255]\n",
      " [255 255 255 ... 254 255 255]\n",
      " [255 255 255 ... 255 255 255]\n",
      " ...\n",
      " [255 255 255 ... 255 255 255]\n",
      " [255 255 255 ... 255 255 255]\n",
      " [255 255 255 ... 255 255 255]]\n"
     ]
    }
   ],
   "source": []
  },
  {
   "cell_type": "code",
   "execution_count": 77,
   "metadata": {},
   "outputs": [
    {
     "name": "stdout",
     "output_type": "stream",
     "text": [
      "\n"
     ]
    }
   ],
   "source": []
  },
  {
   "cell_type": "code",
   "execution_count": 121,
   "metadata": {},
   "outputs": [
    {
     "name": "stdout",
     "output_type": "stream",
     "text": [
      "[1, 2, 1, 2, 1, 2]\n"
     ]
    }
   ],
   "source": []
  }
 ],
 "metadata": {
  "kernelspec": {
   "display_name": "Python 3",
   "language": "python",
   "name": "python3"
  },
  "language_info": {
   "codemirror_mode": {
    "name": "ipython",
    "version": 3
   },
   "file_extension": ".py",
   "mimetype": "text/x-python",
   "name": "python",
   "nbconvert_exporter": "python",
   "pygments_lexer": "ipython3",
   "version": "3.6.5"
  }
 },
 "nbformat": 4,
 "nbformat_minor": 2
}
